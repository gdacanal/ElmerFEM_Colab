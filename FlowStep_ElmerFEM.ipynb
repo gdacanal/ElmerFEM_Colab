{
  "nbformat": 4,
  "nbformat_minor": 0,
  "metadata": {
    "colab": {
      "provenance": [],
      "mount_file_id": "1T2jSFTxIO2FtGqPjZ8tFbZI9nraJAl12",
      "authorship_tag": "ABX9TyOy/uT0WeegfVDVgEIbxNXW",
      "include_colab_link": true
    },
    "kernelspec": {
      "name": "python3",
      "display_name": "Python 3"
    },
    "language_info": {
      "name": "python"
    }
  },
  "cells": [
    {
      "cell_type": "markdown",
      "metadata": {
        "id": "view-in-github",
        "colab_type": "text"
      },
      "source": [
        "<a href=\"https://colab.research.google.com/github/gdacanal/ElmerFEM_Colab/blob/main/FlowStep_ElmerFEM.ipynb\" target=\"_parent\"><img src=\"https://colab.research.google.com/assets/colab-badge.svg\" alt=\"Open In Colab\"/></a>"
      ]
    },
    {
      "cell_type": "code",
      "execution_count": null,
      "metadata": {
        "id": "ruS4kmC2rVoQ"
      },
      "outputs": [],
      "source": [
        "#Open Google Colab (colab.research.google.com) and create a new Python 3 notebook.\n",
        "#Install the required packages by running the following code in a code cell:\n",
        "!add-apt-repository -y ppa:elmer-csc-ubuntu/elmer-csc-ppa\n",
        "!apt-get update -qq\n",
        "!apt-get install -y -qq elmerfem-csc"
      ]
    },
    {
      "cell_type": "code",
      "source": [
        "# Upload the mesh file to Colab\n",
        "from google.colab import drive\n",
        "\n",
        "drive.mount('/content/drive')"
      ],
      "metadata": {
        "id": "COqFTyGWrvJ8"
      },
      "execution_count": null,
      "outputs": []
    },
    {
      "cell_type": "code",
      "source": [
        "import os\n",
        "\n",
        "os.chdir('/content/drive/MyDrive/Colab Notebooks/ElmerColab/ElmerFEM_Colab')"
      ],
      "metadata": {
        "id": "ZZP9dKdFscxi"
      },
      "execution_count": null,
      "outputs": []
    },
    {
      "cell_type": "code",
      "source": [
        "#List files in the current directory\n",
        "%%shell\n",
        "ls"
      ],
      "metadata": {
        "id": "P6YEU0-ExUQc"
      },
      "execution_count": null,
      "outputs": []
    },
    {
      "cell_type": "code",
      "source": [
        "#ElmerGrid manual\n",
        "#The first parameter defines the input file format:\n",
        "#1) .grd : ElmerGrid file format\n",
        "#2) .mesh.* : Elmer input format\n",
        "#3) .ep : Elmer output format\n",
        "#4) .ansys : Ansys input format\n",
        "#5) .inp : Abaqus input format by Ideas\n",
        "#6) .fil : Abaqus output format\n",
        "#7) .FDNEUT : Gambit (Fidap) neutral file\n",
        "#8) .unv : Universal mesh file format\n",
        "#9) .mphtxt : Comsol Multiphysics mesh format\n",
        "#10) .dat : Fieldview format\n",
        "#11) .node,.ele: Triangle 2D mesh format\n",
        "#12) .mesh : Medit mesh format\n",
        "#13) .msh : GID mesh format\n",
        "#14) .msh : Gmsh mesh format\n",
        "#15) .ep.i : Partitioned ElmerPost format\n",
        "#16) .2dm : 2D triangular FVCOM format\n",
        "\n",
        "#The second parameter defines the output file format:\n",
        "#1) .grd : ElmerGrid file format\n",
        "#2) .mesh.* : ElmerSolver format (also partitioned .part format)\n",
        "#3) .ep : ElmerPost format\n",
        "#4) .msh : Gmsh mesh format\n",
        "#5) .vtu : VTK ascii XML format"
      ],
      "metadata": {
        "id": "1bJpX8Yyroz8"
      },
      "execution_count": null,
      "outputs": []
    },
    {
      "cell_type": "code",
      "source": [
        "#Convert mesh from \"step.grd\" to \"step.msh\" in ElmerGrid\n",
        "%%shell\n",
        "ElmerGrid 1 4 step.grd"
      ],
      "metadata": {
        "id": "9o0aRqB7sgVl"
      },
      "execution_count": null,
      "outputs": []
    },
    {
      "cell_type": "code",
      "source": [
        "#Install meshio library\n",
        "!pip install meshio"
      ],
      "metadata": {
        "id": "ydejxCP5tn_Z"
      },
      "execution_count": null,
      "outputs": []
    },
    {
      "cell_type": "code",
      "source": [
        "import meshio\n",
        "import matplotlib.pyplot as plt\n",
        "\n",
        "mesh = meshio.read('step.msh')\n",
        "\n",
        "# Extract the mesh points and cells information\n",
        "points = mesh.points\n",
        "cells = mesh.cells[0]  # Assuming there is only one cell type in the MSH file\n",
        "\n",
        "# Plot the mesh using Matplotlib\n",
        "fig, ax = plt.subplots()\n",
        "\n",
        "# Plot the mesh cells\n",
        "if cells.type == \"quad\":\n",
        "    cell_quads = cells.data\n",
        "    for quad in cell_quads:\n",
        "        quad_points = points[quad]\n",
        "        quad_points = [*quad_points, quad_points[0]]  # Close the quad\n",
        "        xs, ys, _ = zip(*quad_points)\n",
        "        ax.plot(xs, ys, 'b-')\n",
        "elif cells.type == \"triangle\":\n",
        "    cell_triangles = cells.data\n",
        "    for triangle in cell_triangles:\n",
        "        triangle_points = points[triangle]\n",
        "        triangle_points = [*triangle_points, triangle_points[0]]  # Close the triangle\n",
        "        xs, ys, _ = zip(*triangle_points)\n",
        "        ax.plot(xs, ys, 'b-')\n",
        "elif cells.type == \"line\":\n",
        "    cell_lines = cells.data\n",
        "    for line in cell_lines:\n",
        "        line_points = points[line]\n",
        "        xs, ys, _ = zip(*line_points)\n",
        "        ax.plot(xs, ys, 'b-')\n",
        "\n",
        "# Set the aspect ratio to 'equal'\n",
        "ax.set_aspect('equal')\n",
        "\n",
        "# Display the plot\n",
        "plt.show()"
      ],
      "metadata": {
        "id": "jkLcGOJMwO5W"
      },
      "execution_count": null,
      "outputs": []
    },
    {
      "cell_type": "code",
      "source": [
        "#Convert mesh from \"step.grd\" to \"step\" ElmerFEM solver format\n",
        "%%shell\n",
        "ElmerGrid 1 2 step.grd"
      ],
      "metadata": {
        "id": "gQhsyEVBybwi"
      },
      "execution_count": null,
      "outputs": []
    },
    {
      "cell_type": "code",
      "source": [
        "#List files in the current directory\n",
        "\n",
        "%%shell\n",
        "ls"
      ],
      "metadata": {
        "id": "Qr6QX8MyyxBI"
      },
      "execution_count": null,
      "outputs": []
    },
    {
      "cell_type": "code",
      "source": [
        "# Create Elmer sif file\n",
        "sif_content = '''\n",
        "Header\n",
        "  CHECK KEYWORDS Warn\n",
        "  Mesh DB \".\" \"step\"\n",
        "  Include Path \"\"\n",
        "  Results Directory \"\"\n",
        "End\n",
        "\n",
        "Simulation\n",
        "  Max Output Level = 4\n",
        "  Coordinate System = Cartesian\n",
        "  Coordinate Mapping(3) = 1 2 3\n",
        "  Simulation Type = Steady state\n",
        "  Steady State Max Iterations = 1\n",
        "  Output Intervals(1) = 1\n",
        "  Solver Input File = case.sif\n",
        "  Post File = case.vtu\n",
        "End\n",
        "\n",
        "Constants\n",
        "  Gravity(4) = 0 -1 0 9.82\n",
        "  Stefan Boltzmann = 5.67e-08\n",
        "  Permittivity of Vacuum = 8.8542e-12\n",
        "  Permeability of Vacuum = 1.25663706e-6\n",
        "  Boltzmann Constant = 1.3807e-23\n",
        "  Unit Charge = 1.602e-19\n",
        "End\n",
        "\n",
        "Body 1\n",
        "  Target Bodies(1) = 1\n",
        "  Name = \"Body Property 1\"\n",
        "  Equation = 1\n",
        "  Material = 1\n",
        "End\n",
        "\n",
        "Solver 1\n",
        "  Equation = Navier-Stokes\n",
        "  Procedure = \"FlowSolve\" \"FlowSolver\"\n",
        "  Variable = Flow Solution[Velocity:2 Pressure:1]\n",
        "  Exec Solver = Always\n",
        "  Stabilize = True\n",
        "  Optimize Bandwidth = True\n",
        "  Steady State Convergence Tolerance = 1.0e-5\n",
        "  Nonlinear System Convergence Tolerance = 1.0e-8\n",
        "  Nonlinear System Max Iterations = 20\n",
        "  Nonlinear System Newton After Iterations = 3\n",
        "  Nonlinear System Newton After Tolerance = 1.0e-3\n",
        "  Nonlinear System Relaxation Factor = 1\n",
        "  Linear System Solver = Iterative\n",
        "  Linear System Iterative Method = BiCGStab\n",
        "  Linear System Max Iterations = 500\n",
        "  Linear System Convergence Tolerance = 1.0e-8\n",
        "  BiCGstabl polynomial degree = 2\n",
        "  Linear System Preconditioning = ILU0\n",
        "  Linear System ILUT Tolerance = 1.0e-3\n",
        "  Linear System Abort Not Converged = False\n",
        "  Linear System Residual Output = 1\n",
        "  Linear System Precondition Recompute = 1\n",
        "End\n",
        "\n",
        "Equation 1\n",
        "  Name = \"Navier-Stokes\"\n",
        "  Active Solvers(1) = 1\n",
        "End\n",
        "\n",
        "Material 1\n",
        "  Name = \"Ideal\"\n",
        "  Density = 1.0\n",
        "  Viscosity = 0.01\n",
        "End\n",
        "\n",
        "Boundary Condition 1\n",
        "  Target Boundaries(1) = 1 \n",
        "  Name = \"Inlet\"\n",
        "  Velocity 2 = 0.0\n",
        "  Velocity 1 = Variable Coordinate 2; Real MATC \"6*(tx-1)*(2-tx)\"\n",
        "End\n",
        "\n",
        "Boundary Condition 2\n",
        "  Target Boundaries(1) = 2 \n",
        "  Name = \"Outlet\"\n",
        "  Velocity 2 = 0.0\n",
        "End\n",
        "\n",
        "Boundary Condition 3\n",
        "  Target Boundaries(1) = 3 \n",
        "  Name = \"Walls\"\n",
        "  Noslip wall BC = True\n",
        "End\n",
        "'''"
      ],
      "metadata": {
        "id": "5hq5YxQGApZz"
      },
      "execution_count": null,
      "outputs": []
    },
    {
      "cell_type": "code",
      "source": [
        "# Save sif file\n",
        "with open('case.sif', 'w') as f:\n",
        "    f.write(sif_content)"
      ],
      "metadata": {
        "id": "wMHP2ov_A6h-"
      },
      "execution_count": null,
      "outputs": []
    },
    {
      "cell_type": "code",
      "source": [
        "%%shell\n",
        "ElmerSolver case.sif"
      ],
      "metadata": {
        "id": "TQeiPJtq6YRp"
      },
      "execution_count": null,
      "outputs": []
    },
    {
      "cell_type": "code",
      "source": [
        "#List files in the current directory\n",
        "\n",
        "%%shell\n",
        "ls\n",
        "cd step\n",
        "ls"
      ],
      "metadata": {
        "id": "XBevVlfqzH2C"
      },
      "execution_count": null,
      "outputs": []
    },
    {
      "cell_type": "code",
      "source": [
        "import meshio\n",
        "import numpy as np\n",
        "import matplotlib.pyplot as plt\n",
        "\n",
        "# Read VTU file\n",
        "mesh = meshio.read(\"./step/case_t0001.vtu\")\n",
        "\n",
        "# Extract the points and cells from the mesh\n",
        "points = mesh.points\n",
        "cells = mesh.cells\n",
        "\n",
        "# Extract velocity data\n",
        "velocity = mesh.point_data['velocity']\n",
        "\n",
        "# Plotting 2D mesh with velocity data\n",
        "fig, ax = plt.subplots()\n",
        "\n",
        "# Plotting vertices with velocity data\n",
        "ax.quiver(points[:, 0], points[:, 1], velocity[:, 0], velocity[:, 1])\n",
        "\n",
        "# Plotting cells (triangles or tetrahedra)\n",
        "if 'triangle' in cells:\n",
        "    triangles = cells['triangle']\n",
        "    ax.tripcolor(points[:, 0], points[:, 1], triangles=triangles, facecolors='gray', alpha=0.5)\n",
        "elif 'tetra' in cells:\n",
        "    tetrahedra = cells['tetra']\n",
        "    ax.tripcolor(points[:, 0], points[:, 1], triangles=tetrahedra, facecolors='gray', alpha=0.5)\n",
        "\n",
        "# Set aspect ratio\n",
        "ax.set_aspect(1)  # or any other desired aspect ratio\n",
        "\n",
        "# Set axis labels\n",
        "ax.set_xlabel('X')\n",
        "ax.set_ylabel('Y')\n",
        "\n",
        "# Show the plot\n",
        "plt.show()"
      ],
      "metadata": {
        "id": "VQggXFr31vSF"
      },
      "execution_count": null,
      "outputs": []
    }
  ]
}